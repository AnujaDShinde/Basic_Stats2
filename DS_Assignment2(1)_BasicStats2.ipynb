{
 "cells": [
  {
   "cell_type": "code",
   "execution_count": 1,
   "id": "58eefbdc",
   "metadata": {},
   "outputs": [],
   "source": [
    "import pandas as pd\n",
    "import numpy as np\n",
    "import matplotlib.pyplot as plt\n",
    "import seaborn as sns\n",
    "%matplotlib inline"
   ]
  },
  {
   "cell_type": "markdown",
   "id": "2415ffb5",
   "metadata": {},
   "source": [
    "# Q.1"
   ]
  },
  {
   "cell_type": "code",
   "execution_count": 2,
   "id": "f138279f",
   "metadata": {},
   "outputs": [],
   "source": [
    "m = pd.Series([24.23,\n",
    "25.53,\n",
    "25.41,\n",
    "24.14,\n",
    "29.62,\n",
    "28.25,\n",
    "25.81,\n",
    "24.39,\n",
    "40.26,\n",
    "32.95,\n",
    "91.36,\n",
    "25.99,\n",
    "39.42,\n",
    "26.71,\n",
    "35.00\n",
    "])"
   ]
  },
  {
   "cell_type": "code",
   "execution_count": 3,
   "id": "dfda9cb4",
   "metadata": {},
   "outputs": [],
   "source": [
    "company = [\"Allied Signal\", \"Bankers Trust\",\"General Mills\", \"ITT Industries\", \"J.P.Morgan & Co.\",\"Lehman Brothers\", \"Marriott\", \"MCI\", \"Merrill Lynch\", \"Microsoft\", \"Morgan Stanley\", \"Sun Microsystems\", \"Travelers\", \"US Airways\", \"Warner-Lambert\"\n",
    "]"
   ]
  },
  {
   "cell_type": "code",
   "execution_count": 4,
   "id": "f111f97b",
   "metadata": {},
   "outputs": [
    {
     "name": "stderr",
     "output_type": "stream",
     "text": [
      "C:\\ProgramData\\Anaconda3\\lib\\site-packages\\seaborn\\_decorators.py:36: FutureWarning: Pass the following variable as a keyword arg: x. From version 0.12, the only valid positional argument will be `data`, and passing other arguments without an explicit keyword will result in an error or misinterpretation.\n",
      "  warnings.warn(\n"
     ]
    },
    {
     "data": {
      "text/plain": [
       "<AxesSubplot:>"
      ]
     },
     "execution_count": 4,
     "metadata": {},
     "output_type": "execute_result"
    },
    {
     "data": {
      "image/png": "[encoded data removed]",
      "text/plain": [
       "<Figure size 432x288 with 1 Axes>"
      ]
     },
     "metadata": {
      "needs_background": "light"
     },
     "output_type": "display_data"
    }
   ],
   "source": [
    "sns.boxplot(m)"
   ]
  },
  {
   "cell_type": "code",
   "execution_count": 7,
   "id": "b23e9eb2",
   "metadata": {},
   "outputs": [
    {
     "data": {
      "text/plain": [
       "33.27133333333333"
      ]
     },
     "execution_count": 7,
     "metadata": {},
     "output_type": "execute_result"
    }
   ],
   "source": [
    "m.mean()"
   ]
  },
  {
   "cell_type": "code",
   "execution_count": 8,
   "id": "e89ec287",
   "metadata": {},
   "outputs": [
    {
     "data": {
      "text/plain": [
       "16.945400921222028"
      ]
     },
     "execution_count": 8,
     "metadata": {},
     "output_type": "execute_result"
    }
   ],
   "source": [
    "m.std()"
   ]
  },
  {
   "cell_type": "code",
   "execution_count": 9,
   "id": "bbc0e031",
   "metadata": {},
   "outputs": [
    {
     "data": {
      "text/plain": [
       "287.1466123809524"
      ]
     },
     "execution_count": 9,
     "metadata": {},
     "output_type": "execute_result"
    }
   ],
   "source": [
    "m.var()"
   ]
  },
  {
   "cell_type": "markdown",
   "id": "e9fe6d06",
   "metadata": {},
   "source": [
    "# Q.2"
   ]
  },
  {
   "cell_type": "markdown",
   "id": "ef188129",
   "metadata": {},
   "source": [
    "(i)   IQR = 12 - 5 = 7.\n",
    "       IQR represents middle 50% of the data.\n",
    "       \n",
    "(ii)  Dataset is positively skewed.\n",
    "\n",
    "(iii)   The new boxplot won't contain as outlier and median will shift towards Q1."
   ]
  },
  {
   "cell_type": "markdown",
   "id": "5750ebef",
   "metadata": {},
   "source": [
    "# Q.3"
   ]
  },
  {
   "cell_type": "markdown",
   "id": "475cf24a",
   "metadata": {},
   "source": [
    "(i)   Mode of dataset would lie on 6.\n",
    "\n",
    "(ii)  The dataset is positively skewed.\n",
    "\n",
    "(iii)  "
   ]
  },
  {
   "cell_type": "markdown",
   "id": "bd7a1c06",
   "metadata": {},
   "source": [
    "# Q.4"
   ]
  },
  {
   "cell_type": "markdown",
   "id": "ad55daed",
   "metadata": {},
   "source": [
    "One call in 200 is misdirected\n",
    "\n",
    "P(one call is misdirected) = 1/200\n",
    "\n",
    "P(no call is misdirected) = 1 - (1/200) = 199/200\n",
    "\n",
    "At least one call in five is getting misdirected  = 1 - No call is getting misdirected\n",
    "\n",
    "                                                                                 = 1 - (199/200)^5\n",
    "                                                                                 \n",
    "                                                                                 = 0.02475"
   ]
  },
  {
   "cell_type": "markdown",
   "id": "14555002",
   "metadata": {},
   "source": [
    "# Q.5"
   ]
  },
  {
   "cell_type": "markdown",
   "id": "516d1aee",
   "metadata": {},
   "source": [
    "(iii) Long-term average earning = P(X) * (X)\n",
    "                                                        = 0.1(-2000) +  0.1(-1000)  + 0.2(0) + 0.2(1000) + 0.3(2000) + 0.1(3000)\n",
    "                                                        = (- 200) +  (- 100) + (0) + (200) + (600) + (300)\n",
    "                                                        = 800\n",
    "                                         \n",
    "(ii)For X = 1000, 2000, 3000  probability = 0.2 + 0.3 + 0.1 = 0.6. \n",
    "      0.6 > 0.5 hence business venture is likely to be successful.\n",
    "\n",
    "(i) Monetary outcome is likely to be 2000 as it has maximum probability i.e. 0.3.\n",
    "\n",
    "(iv) Var (X)   = E(X²) - { E(X) }²\n",
    "                      = 2800000  -  640000\n",
    "                      = 2160000."
   ]
  }
 ],
 "metadata": {
  "kernelspec": {
   "display_name": "Python 3 (ipykernel)",
   "language": "python",
   "name": "python3"
  },
  "language_info": {
   "codemirror_mode": {
    "name": "ipython",
    "version": 3
   },
   "file_extension": ".py",
   "mimetype": "text/x-python",
   "name": "python",
   "nbconvert_exporter": "python",
   "pygments_lexer": "ipython3",
   "version": "3.9.7"
  }
 },
 "nbformat": 4,
 "nbformat_minor": 5
}
