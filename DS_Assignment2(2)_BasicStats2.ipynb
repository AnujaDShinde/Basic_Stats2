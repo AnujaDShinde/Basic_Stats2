{
 "cells": [
  {
   "cell_type": "code",
   "execution_count": 1,
   "id": "90344b06",
   "metadata": {},
   "outputs": [],
   "source": [
    "import pandas as pd\n",
    "import numpy as np\n",
    "from scipy import stats\n",
    "from scipy.stats import norm"
   ]
  },
  {
   "cell_type": "markdown",
   "id": "2ea350dc",
   "metadata": {},
   "source": [
    "# Q.1"
   ]
  },
  {
   "cell_type": "code",
   "execution_count": 2,
   "id": "ee2d4382",
   "metadata": {},
   "outputs": [
    {
     "data": {
      "text/plain": [
       "0.625"
      ]
     },
     "execution_count": 2,
     "metadata": {},
     "output_type": "execute_result"
    }
   ],
   "source": [
    "z_score = (50 - 45) / 8\n",
    "z_score"
   ]
  },
  {
   "cell_type": "code",
   "execution_count": 7,
   "id": "8f849af8",
   "metadata": {},
   "outputs": [
    {
     "data": {
      "text/plain": [
       "0.26598552904870054"
      ]
     },
     "execution_count": 7,
     "metadata": {},
     "output_type": "execute_result"
    }
   ],
   "source": [
    "1 - stats.norm.cdf(abs(0.625))"
   ]
  },
  {
   "cell_type": "code",
   "execution_count": 6,
   "id": "bbf4a3e2",
   "metadata": {},
   "outputs": [
    {
     "data": {
      "text/plain": [
       "0.7340144709512995"
      ]
     },
     "execution_count": 6,
     "metadata": {},
     "output_type": "execute_result"
    }
   ],
   "source": [
    "p_value = stats.norm.cdf(abs(z_score)) \n",
    "p_value"
   ]
  },
  {
   "cell_type": "code",
   "execution_count": 8,
   "id": "f9698ce8",
   "metadata": {},
   "outputs": [
    {
     "data": {
      "text/plain": [
       "0.26598552904870054"
      ]
     },
     "execution_count": 8,
     "metadata": {},
     "output_type": "execute_result"
    }
   ],
   "source": [
    "1 - 0.7340144709512995"
   ]
  },
  {
   "cell_type": "markdown",
   "id": "65c0a608",
   "metadata": {},
   "source": [
    "# Q.2"
   ]
  },
  {
   "cell_type": "code",
   "execution_count": 9,
   "id": "6f7e65aa",
   "metadata": {},
   "outputs": [
    {
     "data": {
      "text/plain": [
       "1.0"
      ]
     },
     "execution_count": 9,
     "metadata": {},
     "output_type": "execute_result"
    }
   ],
   "source": [
    "z_score = (44 - 38) / 6\n",
    "z_score"
   ]
  },
  {
   "cell_type": "code",
   "execution_count": 12,
   "id": "2d1214c6",
   "metadata": {},
   "outputs": [
    {
     "data": {
      "text/plain": [
       "15.870000000000005"
      ]
     },
     "execution_count": 12,
     "metadata": {},
     "output_type": "execute_result"
    }
   ],
   "source": [
    "100 - 84.13"
   ]
  },
  {
   "cell_type": "markdown",
   "id": "1280a13f",
   "metadata": {},
   "source": [
    "15.87% => 64 / 400"
   ]
  },
  {
   "cell_type": "code",
   "execution_count": 13,
   "id": "59d047f4",
   "metadata": {},
   "outputs": [
    {
     "data": {
      "text/plain": [
       "0.0"
      ]
     },
     "execution_count": 13,
     "metadata": {},
     "output_type": "execute_result"
    }
   ],
   "source": [
    "z_score = (38 - 38) / 6\n",
    "z_score"
   ]
  },
  {
   "cell_type": "code",
   "execution_count": 14,
   "id": "180301b4",
   "metadata": {},
   "outputs": [
    {
     "data": {
      "text/plain": [
       "34.129999999999995"
      ]
     },
     "execution_count": 14,
     "metadata": {},
     "output_type": "execute_result"
    }
   ],
   "source": [
    "84.13 - 50"
   ]
  },
  {
   "cell_type": "markdown",
   "id": "ea54e8ff",
   "metadata": {},
   "source": [
    "34.13% => 137 / 400"
   ]
  },
  {
   "cell_type": "markdown",
   "id": "5d0405fb",
   "metadata": {},
   "source": [
    "Employees between age 38 and 44 are older than the employees older than 44. Hence the given statement is false.  "
   ]
  },
  {
   "cell_type": "code",
   "execution_count": 15,
   "id": "b4edd620",
   "metadata": {},
   "outputs": [
    {
     "data": {
      "text/plain": [
       "-1.3333333333333333"
      ]
     },
     "execution_count": 15,
     "metadata": {},
     "output_type": "execute_result"
    }
   ],
   "source": [
    "z_score = (30 - 38) / 6\n",
    "z_score"
   ]
  },
  {
   "cell_type": "markdown",
   "id": "07e47db3",
   "metadata": {},
   "source": [
    "-1.33 => 9.15%\n",
    "9.15% =>  36 / 400"
   ]
  },
  {
   "cell_type": "markdown",
   "id": "471c8205",
   "metadata": {},
   "source": [
    "A training program for employees under the age of 30 at the center would be expected to attract about 36 employees. Given statement is true."
   ]
  },
  {
   "cell_type": "markdown",
   "id": "dfe4c143",
   "metadata": {},
   "source": [
    "# Q.3"
   ]
  },
  {
   "cell_type": "markdown",
   "id": "599d1f07",
   "metadata": {},
   "source": [
    "X1 ~ N(μ1, σ1^2) \n",
    "\n",
    "X2 ~ N(μ2, σ2^2)\n",
    "\n",
    "X1 + X2 ~ N(μ1 + μ2, σ1^2 + σ2^2)\n",
    "\n",
    "2X1 ~ N(2μ1, 2σ1^2)\n",
    "\n",
    "(2X1 - X1 + X2) ~ N(2μ1 - μ1 + μ2, 2σ1^2 - σ1^2 + σ2^2)\n",
    "\n",
    "=> They have same probability distribution."
   ]
  },
  {
   "cell_type": "markdown",
   "id": "708fdbb8",
   "metadata": {},
   "source": [
    "# Q.4"
   ]
  },
  {
   "cell_type": "code",
   "execution_count": 2,
   "id": "35ba230a",
   "metadata": {},
   "outputs": [
    {
     "data": {
      "text/plain": [
       "(48.48341392902199, 151.516586070978)"
      ]
     },
     "execution_count": 2,
     "metadata": {},
     "output_type": "execute_result"
    }
   ],
   "source": [
    "stats.norm.interval(0.99,100,20)"
   ]
  },
  {
   "cell_type": "markdown",
   "id": "27253ef2",
   "metadata": {},
   "source": [
    "=> a = 48.5, b = 151.5"
   ]
  },
  {
   "cell_type": "markdown",
   "id": "3642a15d",
   "metadata": {},
   "source": [
    "# Q.5"
   ]
  },
  {
   "cell_type": "code",
   "execution_count": 5,
   "id": "e3b8da2a",
   "metadata": {},
   "outputs": [
    {
     "name": "stdout",
     "output_type": "stream",
     "text": [
      "Mean profit is Rs. 540 million\n"
     ]
    }
   ],
   "source": [
    "mean = 225 + 315\n",
    "print (\"Mean profit is Rs.\", mean , \"million\")"
   ]
  },
  {
   "cell_type": "code",
   "execution_count": 9,
   "id": "850317cd",
   "metadata": {},
   "outputs": [
    {
     "name": "stdout",
     "output_type": "stream",
     "text": [
      "Standadrd deviation is Rs. 225.0 million\n"
     ]
    }
   ],
   "source": [
    "stdd = np.sqrt(9 + 16)\n",
    "print (\"Standadrd deviation is Rs.\", stdd*45, \"million\")"
   ]
  },
  {
   "cell_type": "code",
   "execution_count": 10,
   "id": "574c18e1",
   "metadata": {},
   "outputs": [
    {
     "name": "stdout",
     "output_type": "stream",
     "text": [
      "Range is Rs. (99.00810347848784, 980.9918965215122) in million\n"
     ]
    }
   ],
   "source": [
    "print(\"Range is Rs.\", (stats.norm.interval(0.95,540,225)), \"in million\")"
   ]
  },
  {
   "cell_type": "code",
   "execution_count": 11,
   "id": "c0aae004",
   "metadata": {},
   "outputs": [
    {
     "name": "stdout",
     "output_type": "stream",
     "text": [
      "5th percentile of profit is Rs. 170.0 million\n"
     ]
    }
   ],
   "source": [
    "# X = μ + Zσ\n",
    "# Z value for 5th percentile is -1.645 \n",
    "\n",
    " \n",
    "X= 540 + (-1.645) * (225)\n",
    "print (\"5th percentile of profit is Rs.\", np.round(X,), \"million\")"
   ]
  },
  {
   "cell_type": "code",
   "execution_count": 14,
   "id": "cf8eb0ed",
   "metadata": {},
   "outputs": [
    {
     "data": {
      "text/plain": [
       "0.0477903522728147"
      ]
     },
     "execution_count": 14,
     "metadata": {},
     "output_type": "execute_result"
    }
   ],
   "source": [
    "stats.norm.cdf(0,5,3)"
   ]
  },
  {
   "cell_type": "code",
   "execution_count": 15,
   "id": "1037f674",
   "metadata": {},
   "outputs": [
    {
     "data": {
      "text/plain": [
       "0.040059156863817086"
      ]
     },
     "execution_count": 15,
     "metadata": {},
     "output_type": "execute_result"
    }
   ],
   "source": [
    "stats.norm.cdf(0,7,4)"
   ]
  },
  {
   "cell_type": "code",
   "execution_count": null,
   "id": "9ef67c77",
   "metadata": {},
   "outputs": [],
   "source": []
  }
 ],
 "metadata": {
  "kernelspec": {
   "display_name": "Python 3 (ipykernel)",
   "language": "python",
   "name": "python3"
  },
  "language_info": {
   "codemirror_mode": {
    "name": "ipython",
    "version": 3
   },
   "file_extension": ".py",
   "mimetype": "text/x-python",
   "name": "python",
   "nbconvert_exporter": "python",
   "pygments_lexer": "ipython3",
   "version": "3.9.7"
  }
 },
 "nbformat": 4,
 "nbformat_minor": 5
}
