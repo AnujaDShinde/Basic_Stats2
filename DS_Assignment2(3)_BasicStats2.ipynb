{
 "cells": [
  {
   "cell_type": "markdown",
   "id": "aecb74f5",
   "metadata": {},
   "source": [
    "# Q.1"
   ]
  },
  {
   "cell_type": "markdown",
   "id": "27e11115",
   "metadata": {},
   "source": [
    "(i) Too much small size of sample won't yield valid result. Hence the given statement is TRUE.\n",
    "\n",
    "(ii)Sampling frame should contain the data sufficient enough to answer the question. Hence the given statement is FALSE.\n",
    "\n",
    "(iii)Large population with large sample size results more accuracy. Hence the given statement is TRUE."
   ]
  },
  {
   "cell_type": "markdown",
   "id": "869b8d39",
   "metadata": {},
   "source": [
    "# Q.2"
   ]
  },
  {
   "cell_type": "markdown",
   "id": "a3a6d0ad",
   "metadata": {},
   "source": [
    "(A) Population is total number of readers rated the products on a scale from 1 to 10.\n",
    "\n",
    "(B) The parameter of interest (p) = x / n = 225 / 9000 = 0.025.\n",
    "\n",
    "(C) Sampling frame  = 9000.\n",
    "\n",
    "(D) Sample size = 225.\n",
    "\n",
    "(E) Sample design = Probability Sampling.\n",
    "\n",
    "(F) Group of readers are underrepresented in the sample hence survey is dealing with \"Under-Coverage\" bias."
   ]
  },
  {
   "cell_type": "markdown",
   "id": "3edf2f41",
   "metadata": {},
   "source": [
    "# Q.3"
   ]
  },
  {
   "cell_type": "markdown",
   "id": "dd49e3f6",
   "metadata": {},
   "source": [
    "(I) As $ 100 lies between $ 50 and $ 110. The given statement is \"TRUE\".\n",
    "\n",
    "(II)The given statement is \"TRUE\".\n",
    "\n",
    "(III)We can apply the 95 percent Confidence-Interval for μ without worrying about the underlying distribution of the statistical population. Hence the given statement is         \"FALSE\"."
   ]
  },
  {
   "cell_type": "markdown",
   "id": "7e9c9e85",
   "metadata": {},
   "source": [
    "# Q.4"
   ]
  },
  {
   "cell_type": "markdown",
   "id": "d2495a03",
   "metadata": {},
   "source": [
    "If a lot of samples are taken repeatedly then mean of sample is equal to mean of population.\n",
    "=> (D) 1"
   ]
  },
  {
   "cell_type": "markdown",
   "id": "e45d071e",
   "metadata": {},
   "source": [
    "# Q.5"
   ]
  },
  {
   "cell_type": "code",
   "execution_count": 2,
   "id": "6091e7de",
   "metadata": {},
   "outputs": [],
   "source": [
    "import numpy as np\n",
    "from scipy import stats\n",
    "from scipy.stats import norm"
   ]
  },
  {
   "cell_type": "code",
   "execution_count": 4,
   "id": "ac43d7b3",
   "metadata": {},
   "outputs": [
    {
     "data": {
      "text/plain": [
       "-0.820782681668124"
      ]
     },
     "execution_count": 4,
     "metadata": {},
     "output_type": "execute_result"
    }
   ],
   "source": [
    "#(1) Mozilla has less than 5% share of market.  \n",
    "#Alternate hypothesis HA : p < 5%\n",
    "#One sample one tail z test\n",
    " \n",
    "z_score = (0.046 - 0.05) / (np.sqrt((0.05 * (1 - 0.05)) / 2000))\n",
    "z_score"
   ]
  },
  {
   "cell_type": "code",
   "execution_count": 5,
   "id": "723a7978",
   "metadata": {},
   "outputs": [],
   "source": [
    "#Assume significance level is 5 %. => z value = - 1.96.\n",
    "#z value > z score. =>Can't reject null hypothesis.\n",
    "#Hence we can't conclude that Mozilla has less than 5 % share of market."
   ]
  },
  {
   "cell_type": "code",
   "execution_count": 6,
   "id": "8d11ada9",
   "metadata": {},
   "outputs": [],
   "source": [
    "#(2)WebSideStory claims that its sample includes all the daily internet users.\n",
    "# => 4.6 % of share represents whole population.\n",
    "#Hence Microsoft can conclude that Mozilla has a less than 5% share of the market."
   ]
  },
  {
   "cell_type": "markdown",
   "id": "ab007624",
   "metadata": {},
   "source": [
    "# Q.6"
   ]
  },
  {
   "cell_type": "markdown",
   "id": "4c065bdd",
   "metadata": {},
   "source": [
    "(A) 95 % confidence interval doesn't mean all shipments. Hence interpretation is \"WRONG\".\n",
    "\n",
    "(B) 250 - 45 = 205 and 250 + 45 = 295. Hence intepretation is \"CORRECT\".\n",
    "\n",
    "(C) The true population mean is unknown, this range describes possible values that the mean could be. Hence interpretation is \"WRONG\".\n",
    "\n",
    "(D) As confidence level is not mentioned we can't conclude about mean of another sample. Hence interpretation is \"WRONG\".\n",
    "\n",
    "(E) Interpretation is \"WRONG\"."
   ]
  },
  {
   "cell_type": "markdown",
   "id": "b1a39de1",
   "metadata": {},
   "source": [
    "# Q.7"
   ]
  },
  {
   "cell_type": "markdown",
   "id": "424c04dc",
   "metadata": {},
   "source": [
    "Z interval is difference between mean of distribution and data points in standard deviation. => (A) The z-interval is shorter."
   ]
  },
  {
   "cell_type": "markdown",
   "id": "ee947a4a",
   "metadata": {},
   "source": [
    "# Q.8"
   ]
  },
  {
   "cell_type": "markdown",
   "id": "21f3a3b2",
   "metadata": {},
   "source": [
    "With 95 % confidence interval z score is 1.96.\n",
    "\n",
    "Sample size = [(sample proportion)(1 - sample proportion)(z score)^2] / (Margin of error) ^ 2\n",
    "\n",
    "                      = (0.5 × 0.5 × 1.962^2) / (0.04)^2\n",
    "                      \n",
    "                      = 600.25\n",
    "                      \n",
    "=> (A) 600"
   ]
  },
  {
   "cell_type": "markdown",
   "id": "c4962d50",
   "metadata": {},
   "source": [
    "# Q.9"
   ]
  },
  {
   "cell_type": "markdown",
   "id": "787a82e7",
   "metadata": {},
   "source": [
    "Sample size = (0.5 × 0.5 × 2.33^2) / (0.04)^2 = 848.266\n",
    "\n",
    "=> (C) 848"
   ]
  },
  {
   "cell_type": "code",
   "execution_count": null,
   "id": "997952e9",
   "metadata": {},
   "outputs": [],
   "source": []
  }
 ],
 "metadata": {
  "kernelspec": {
   "display_name": "Python 3 (ipykernel)",
   "language": "python",
   "name": "python3"
  },
  "language_info": {
   "codemirror_mode": {
    "name": "ipython",
    "version": 3
   },
   "file_extension": ".py",
   "mimetype": "text/x-python",
   "name": "python",
   "nbconvert_exporter": "python",
   "pygments_lexer": "ipython3",
   "version": "3.9.7"
  }
 },
 "nbformat": 4,
 "nbformat_minor": 5
}
