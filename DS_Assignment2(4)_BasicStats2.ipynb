{
 "cells": [
  {
   "cell_type": "markdown",
   "id": "73ff6390",
   "metadata": {},
   "source": [
    "# Q.1"
   ]
  },
  {
   "cell_type": "markdown",
   "id": "e60035fc",
   "metadata": {},
   "source": [
    "(I) Plot C is said to be nearly normal as data points lie on the straight diagonal line.\n",
    "\n",
    "(II)Plot D is said to be bimodal as two distinct peaks representing two modes.\n",
    "\n",
    "(III)Plot B is said to be skewed as points fall along the line in middle of the graph but curved off in the extremeties.\n",
    "\n",
    "(IV)Plot A is having outliers on both sides of the center as data points are away from reference line."
   ]
  },
  {
   "cell_type": "markdown",
   "id": "ed749bd6",
   "metadata": {},
   "source": [
    "# Q.2"
   ]
  },
  {
   "cell_type": "markdown",
   "id": "4da8e2fe",
   "metadata": {},
   "source": [
    "(i) False\n",
    "\n",
    "(ii) True "
   ]
  },
  {
   "cell_type": "markdown",
   "id": "c54d6d5e",
   "metadata": {},
   "source": [
    "# Q.3"
   ]
  },
  {
   "cell_type": "code",
   "execution_count": 1,
   "id": "d8aa81aa",
   "metadata": {},
   "outputs": [],
   "source": [
    "import pandas as pd\n",
    "import numpy as np\n",
    "from scipy import stats\n",
    "from scipy.stats import norm"
   ]
  },
  {
   "cell_type": "markdown",
   "id": "da1af759",
   "metadata": {},
   "source": [
    "For  no investigation P(45 < X < 55)\n",
    "\n",
    "For investigation 1 - P(45 < X < 55)"
   ]
  },
  {
   "cell_type": "code",
   "execution_count": 3,
   "id": "2722c213",
   "metadata": {},
   "outputs": [
    {
     "data": {
      "text/plain": [
       "-1.25"
      ]
     },
     "execution_count": 3,
     "metadata": {},
     "output_type": "execute_result"
    }
   ],
   "source": [
    "# Find z score at X = 45\n",
    "\n",
    "z_score =  (45 - 50) / (40 / 100 ** 0.5)\n",
    "z_score"
   ]
  },
  {
   "cell_type": "code",
   "execution_count": 4,
   "id": "a160d1b2",
   "metadata": {},
   "outputs": [
    {
     "data": {
      "text/plain": [
       "1.25"
      ]
     },
     "execution_count": 4,
     "metadata": {},
     "output_type": "execute_result"
    }
   ],
   "source": [
    "# Find z score at X = 55\n",
    "\n",
    "z_score = (55 - 50) / (40 / 100 ** 0.5)\n",
    "z_score"
   ]
  },
  {
   "cell_type": "code",
   "execution_count": 6,
   "id": "a7bbcd1e",
   "metadata": {},
   "outputs": [
    {
     "data": {
      "text/plain": [
       "0.7887004526662893"
      ]
     },
     "execution_count": 6,
     "metadata": {},
     "output_type": "execute_result"
    }
   ],
   "source": [
    "# For no investigation\n",
    "\n",
    "a = stats.norm.cdf(1.25) - stats.norm.cdf(-1.25)\n",
    "a"
   ]
  },
  {
   "cell_type": "code",
   "execution_count": 7,
   "id": "95ef4e92",
   "metadata": {},
   "outputs": [
    {
     "data": {
      "text/plain": [
       "(45.0, 55.0)"
      ]
     },
     "execution_count": 7,
     "metadata": {},
     "output_type": "execute_result"
    }
   ],
   "source": [
    "stats.norm.interval(a, loc = 50, scale = 40/(100**0.5) )"
   ]
  },
  {
   "cell_type": "code",
   "execution_count": 8,
   "id": "0d6126bd",
   "metadata": {},
   "outputs": [
    {
     "data": {
      "text/plain": [
       "0.2112995473337107"
      ]
     },
     "execution_count": 8,
     "metadata": {},
     "output_type": "execute_result"
    }
   ],
   "source": [
    "# For investigation\n",
    "\n",
    "1 - a"
   ]
  },
  {
   "cell_type": "markdown",
   "id": "5e622efa",
   "metadata": {},
   "source": [
    "# Q.4"
   ]
  },
  {
   "cell_type": "code",
   "execution_count": 9,
   "id": "f2affa24",
   "metadata": {},
   "outputs": [],
   "source": [
    "# For 95 % confidence level z score = 1.96\n",
    "\n",
    "z_score = 1.96 "
   ]
  },
  {
   "cell_type": "code",
   "execution_count": 18,
   "id": "b821bc89",
   "metadata": {},
   "outputs": [
    {
     "data": {
      "text/plain": [
       "245.86240000000004"
      ]
     },
     "execution_count": 18,
     "metadata": {},
     "output_type": "execute_result"
    }
   ],
   "source": [
    "# 1.96 = 5 /(40/sqrt(n))\n",
    "# sqrt(n) = (1.96*40)/5\n",
    "\n",
    "n = ((1.96 * 40) / 5) ** 2 \n",
    "n"
   ]
  },
  {
   "cell_type": "markdown",
   "id": "2db8d0d8",
   "metadata": {},
   "source": [
    "# Q.5"
   ]
  },
  {
   "cell_type": "markdown",
   "id": "efb84b76",
   "metadata": {},
   "source": [
    "stdd = 120\n",
    "\n",
    "sqrt(n) = 200\n",
    "\n",
    "Standard deviation of mean = 120 / 200 = 0.60\n",
    "\n",
    "=> E. The standard deviation of the mean across several samples will be 0.60\n",
    "\n",
    "\n",
    "(A) Sample size is unknown hence can't be determined.\n",
    "\n",
    "(C) Mean score of sample is 723.26\n",
    "\n",
    "(D) Mean of samples is unknown hence can't be determined."
   ]
  },
  {
   "cell_type": "code",
   "execution_count": null,
   "id": "5f9ad660",
   "metadata": {},
   "outputs": [],
   "source": []
  }
 ],
 "metadata": {
  "kernelspec": {
   "display_name": "Python 3 (ipykernel)",
   "language": "python",
   "name": "python3"
  },
  "language_info": {
   "codemirror_mode": {
    "name": "ipython",
    "version": 3
   },
   "file_extension": ".py",
   "mimetype": "text/x-python",
   "name": "python",
   "nbconvert_exporter": "python",
   "pygments_lexer": "ipython3",
   "version": "3.9.7"
  }
 },
 "nbformat": 4,
 "nbformat_minor": 5
}
